{
  "nbformat": 4,
  "nbformat_minor": 0,
  "metadata": {
    "colab": {
      "name": "twitter_data.ipynb",
      "provenance": [],
      "authorship_tag": "ABX9TyNnPNW+jGtD4VDHNQD//AVQ",
      "include_colab_link": true
    },
    "kernelspec": {
      "name": "python3",
      "display_name": "Python 3"
    }
  },
  "cells": [
    {
      "cell_type": "markdown",
      "metadata": {
        "id": "view-in-github",
        "colab_type": "text"
      },
      "source": [
        "<a href=\"https://colab.research.google.com/github/redashu/ML/blob/master/twitter_data.ipynb\" target=\"_parent\"><img src=\"https://colab.research.google.com/assets/colab-badge.svg\" alt=\"Open In Colab\"/></a>"
      ]
    },
    {
      "cell_type": "code",
      "metadata": {
        "id": "5v6KW3o020nX",
        "colab_type": "code",
        "colab": {}
      },
      "source": [
        "# installing  twitter module\n",
        "#!pip  install tweepy\n",
        "import  tweepy "
      ],
      "execution_count": 0,
      "outputs": []
    },
    {
      "cell_type": "code",
      "metadata": {
        "id": "qFZLFfkD3Nyx",
        "colab_type": "code",
        "colab": {}
      },
      "source": [
        "#  defining variables\n",
        "#  consumer key \n",
        "consumer_key=\"\"\n",
        "consumer_sec=\"\"\n",
        "# access details\n",
        "access_key = \"\"\n",
        "access_sec=\"\"\n",
        "\n",
        "\n"
      ],
      "execution_count": 0,
      "outputs": []
    },
    {
      "cell_type": "code",
      "metadata": {
        "id": "3emgB1N54Yj-",
        "colab_type": "code",
        "colab": {}
      },
      "source": [
        "# lets  connect  at  first step auth by using consumer  access details \n",
        "#dir(tweepy)\n",
        "first_auth=tweepy.OAuthHandler(consumer_key,consumer_sec)"
      ],
      "execution_count": 0,
      "outputs": []
    },
    {
      "cell_type": "code",
      "metadata": {
        "id": "3JGeP44K4nM_",
        "colab_type": "code",
        "colab": {}
      },
      "source": [
        "#  now setting  second level of auth\n",
        "first_auth.set_access_token(access_key,access_sec)"
      ],
      "execution_count": 0,
      "outputs": []
    },
    {
      "cell_type": "code",
      "metadata": {
        "id": "cRtlqRw55N1V",
        "colab_type": "code",
        "colab": {}
      },
      "source": [
        "#  pointing  auth to datastore\n",
        "storage_api_connect=tweepy.API(first_auth,timeout=10)  #  now after this step we can browse / search data from tweetes\n"
      ],
      "execution_count": 0,
      "outputs": []
    },
    {
      "cell_type": "code",
      "metadata": {
        "id": "xNES3QIs6QO2",
        "colab_type": "code",
        "colab": {
          "base_uri": "https://localhost:8080/",
          "height": 1000
        },
        "outputId": "0f3abd4e-b941-4d63-c357-fdd524c9a451"
      },
      "source": [
        "# now  searching  data  as req and waiting  for reply  \n",
        "#  first  method \n",
        "#tweet_data=storage_api_connect.search('corona',count=25)\n",
        "\n",
        "#  second method\n",
        "search_data=[\"corona\"]  #  search list\n",
        "list_of_tweets=[]   #  tweet data store\n",
        "\n",
        "if  len(search_data) == 1 : \n",
        "  for  tweetdata  in  tweepy.Cursor(storage_api_connect.search,q=search_data[0]+\"  -filter:retweets\",lang='en',result_type='recent').items(100):\n",
        "    list_of_tweets.append(tweetdata.text)\n",
        "    print(tweetdata.text)\n",
        "\n",
        "#print(list_of_tweets)"
      ],
      "execution_count": 17,
      "outputs": [
        {
          "output_type": "stream",
          "text": [
            "@ShereenBhan please telecast a series to fight corona virus that will be really nice as the information should be s… https://t.co/l98OjdqG5A\n",
            "My dear friend is making reusable surgical masks and donating the money made from it to families in need.… https://t.co/2HMie6FykG\n",
            "Boris johnson has corona loool the irony!\n",
            "@deejack_82 Kobe would have beat corona!  One on one!\n",
            "Weather attack on life. Please don't forget about corona attack. Keep social distancing. Pray for world's. https://t.co/SojSm8klya\n",
            "Boris Johnson the UK 🇬🇧  Prime Minister has tested positive of Corona Virus. He says everyone must adhere to the pr… https://t.co/arks3J0wO4\n",
            "@DCPWestDelhi @ArvindKejriwal @msisodia \n",
            "Instead of helping , Uttam Nagar police is shouting on us. U r govt servan… https://t.co/RX9z6hBD2O\n",
            "My mom:”how come I can’t see u now?”\n",
            "Me:”lady the PM got us on lockdown and people got corona virus... how am I sup… https://t.co/toStod4OO2\n",
            "[ENG] Conan Exiles !Charity Stream -  Corona Virus (  Covid-19 ) https://t.co/KtFurnOTIL\n",
            "@ShadowEagleX I know who is behind the Corona virus now 😶\n",
            "Bozza's got Corona. Were all fucked nice knowing ya\n",
            "‘How ironic boris has got corona after telling us all to stay at home’ loooool shut up, he’s the prime minister of… https://t.co/V8OlcjdSLP\n",
            "@mwangideloh Corona death,huh?!\n",
            "@PrisonPlanet 😂🤣😂🤣 and they can spend it with their cell mate Mr Corona 😂🤣😂🤣\n",
            "So what happens when ur boss purposely doesnt divulge info about coworkers being sent home (or walking out) for pot… https://t.co/ZwIqSHJI4a\n",
            "@hukum111 @sudhirnorth I thought the way he was going, would get an stroke before even Corona strikes nearby\n",
            "Sir tell him that it's not Corona virus but it is #ChineseVirus19 . https://t.co/dXtRxqHIus\n",
            "Pakistan is unaware of Coronavirus because Pakistan knows that we have atomic strength!\n",
            "but I don’t know, Corona… https://t.co/0wOhp3yxjg\n",
            "@jaxx681 My  allergies start around this time so I've fked it. ... \" he's got Corona \" 😁\n",
            "@reluctantnicko If we go like Italy and Spain on the Corona cases I highly doubt we will play football again this year.\n",
            "Corona really came to Britain and said fuck your leaders I’m taking them all\n",
            "I was meant to be starting my new job in 2wks but because of Corona they have postponed my start date.\n",
            "I’ve been  a… https://t.co/f2P1Tqijdt\n",
            "One of the tips for managing your mental health through the Corona Virus lock down on my latest podcast episode.… https://t.co/N3Z1WbGMVG\n",
            "Fight against corona https://t.co/YWzEse7p4F\n",
            "Boris Johnson has tested positive to corona virus yet addressed his Nation and promises to work from home... But sp… https://t.co/OjPfAKpVI7\n",
            "Me n my friends : I think we’ll hit 1000 positive cases by the end of this month?\n",
            "\n",
            "Corona : Nope. Its today. \n",
            "\n",
            "😭😭\n",
            "@dumbacrats @w_terrence @realDonaldTrump COVID is short for COrona VIrus Disease. 19 stands for the year. In short CoViD-19\n",
            "@AkiMarlin When ships were allowed to dock with 6 cases inside nko? Abeg make Corona enter fully.. we never ready\n",
            "i knew it \n",
            "\n",
            "https://t.co/nW4fJY6Kyp\n",
            "@ArvindKejriwal Make a list of Delhi Crorepati person and say him give contribute bcz in delhi 70% people is middle… https://t.co/CEwuTGgYXP\n",
            "@thefinalhall @JediFlower @franklyhall @LadyP1982 @CoalYardKitchen @tania40059666 @SueYoungSewing @squash60 I think… https://t.co/zbOY7lbG2v\n",
            "800+ #corona cases crossed in India \n",
            "\n",
            "#IndiaFightsCorona\n",
            "#StayHomeStaySafe\n",
            "Please if people can give even little to help these people...we are Indians First #covidindia #Covid_19india Help t… https://t.co/H49h0tmUeU\n",
            "Quarantine: I’ve discovered my love for yellow 💛🌻 #corona #yellow https://t.co/2Ly0Q4kq68\n",
            "Today is third day of Lockdown. Though Corona cases have increased to more than 700 and more than 40 cases have bee… https://t.co/Cl9yHMU2Mu\n",
            "I like the jokes and all about the corona... but its good to know what we're up against #BeSmart #StaySafe https://t.co/wmr5ugri9P\n",
            "@NadineDorries Did you really get Corona Virus? Or was it political act? We didn't see your isolation diary on news.\n",
            "My dad found an abandoned kitten on the street and brought it to the house. Please what was he looking for on the s… https://t.co/aIfn9HgRxE\n",
            "@MisterABK I came down with Corona like symptoms in mid Feb after meeting up with someone who had just returned fro… https://t.co/1vbSt9PBQU\n",
            "Corona replenishing nature https://t.co/n57KajhUK1\n",
            "@BarbaraAHarri10 No, I meant what I wrote.\n",
            "\n",
            "The percentages will lower because the total number of infected will be… https://t.co/2cq5MbdTnO\n",
            "welcome to the corona family son 😂\n",
            "\n",
            "#CoronaLockdown\n",
            "#coronavirus\n",
            "#StayHome\n",
            "#كوفيد_19\n",
            "#خلك_في_البيت https://t.co/covChE3kET\n",
            "@SanjayPathak3 @ChouhanShivraj @BJP4MP @vdsharmabjp @CollectorKatni Respected Bhaiya, this is not up to the Mark. K… https://t.co/U4ZzcYlLMr\n",
            "@RoseSwiftJosep1 @charlesszilla @chartdata @justinbieber @theweeknd @edsheeran @billieeilish @JBALVIN @DUALIPA… https://t.co/nCwiFpyVfs\n",
            "If I want certain things I gotta order online. But if I do that I might not see it til 6 months or more since coron… https://t.co/jN5jZ0Q9F2\n",
            "Chinese Corona is spreading with speed more than any other disease!Since there is no proven medicine available,the… https://t.co/JJXT6VU688\n",
            "@SkyNews #corona's gonna get you 🤣🤣🤣🤣🤣🤣🤣🤣🤣🤣🤣🤣🤣🤣🤣🤣🤣🤣🤣🤣🤣🤣🤣 #dominiccummings\n",
            "Oh nein, #Corona-Frisuren..... via @statista_com  https://t.co/jiaGBbvMsf\n",
            "Since we can’t #shake #hands anymore. Forget the #fist to fist or the #elbow #greeting. We will now greet each othe… https://t.co/6FktMLTfWS\n",
            "@Boity busy thinking corona is a joke because you're a sangoma, you'll be humbled. You go shopping today there was… https://t.co/LemudlGXIB\n",
            "Fuckin corona virus taking the piss now big time 🤮 https://t.co/PZNbkMsEFo\n",
            "Corona Love 🤕 #Toxic #WeLcOmE2rOnSwOrLdMBS @ Harlem Baby !!!! https://t.co/yyjmFKZwBv\n",
            "cant believe I'm getting called a tory for feeling bad Johnson got corona 😭😭 pleaaasee i thought communism didn't sound that bad\n",
            "@amsterdamski2 Corona Heights ?\n",
            "Apparatly they found a cat who has the corona virus so that means animals can give it to humans and humans can give… https://t.co/fGm6eIbyP7\n",
            "@KhurramHusain Whom to thank IMF or Corona?\n",
            "@MoHFW_INDIA sir i requested to you plz shut down food delivery institute like swiggy amd zomato. the literacy rate… https://t.co/G7X4oHHljs\n",
            "My gym was renovating 1-2 months before it shut down due to corona, so I haven’t been in a while. 😞\n",
            "I’m supposed to be on a coach to the french alps rn . Corona I hate u girl\n",
            "As we keep searching for case zero in many instances where a sudden  development  of  COVID-19  clusters  are  seen… https://t.co/oBqAyMBi1f\n",
            "@DW: #VaccinesForTheCoronaVirus: If the pharmaceutical companies refuse to create a vaccine to cure HIV, because of… https://t.co/CZxEWIQTjT\n",
            "@sarhanabdelbsir @PrisonPlanet @SameeraKhan @WHO Corona originated in China and spread from there and yet blame wes… https://t.co/9iqw4z0fFA\n",
            "Obviously, when you have big data you need huge storage. That is the place cloud computing comes in. #corona… https://t.co/WDrZCIpWFL\n",
            "We salute and thank our heroes  frontliners, health workers, nurses, Doctors,security guards, researchers, and loca… https://t.co/XWq8pkAJfb\n",
            "Funny how Boris Johnson announced he has Corona on the closing day of the stock market 🤔\n",
            "@DeleMomodu  hello sir please help we follow Nigeria we need your help and support with anything you can help us we… https://t.co/p7vAFbgBWv\n",
            "🇳🇴VG088.) when the TURKISH league\n",
            "did not take corona action.\n",
            "\n",
            "Now he talks about the fear of the players\n",
            "and the t… https://t.co/n62kPkCpNM\n",
            "My security guy  said “I be black man, corona virus no dey catch black man” @muvatinklebell ran inside 🤣🤣🤣. We told… https://t.co/GluSJ2dkgT\n",
            "@virginmedia I can't find a number to call. There is no chat function available. I just need to speak to someone ab… https://t.co/kk6akR9df2\n",
            "BORIS HAS CORONA I HAVE TO LAUGH\n",
            "i need famous corona deaths already cmonnn the tl is so dry\n",
            "New Corona Update and Spa Hours https://t.co/yQRdcVD2yx https://t.co/4xSfJy3Ylr\n",
            "Pandemic Efficiency.\n",
            "Why venture out of your home to get Corona when you can get Corona delivered directly to your… https://t.co/MIcYF9JXX9\n",
            "It will be very interesting to see how many people die as a result of the Corona virus... \n",
            "\n",
            "In 2018 there were 36,5… https://t.co/InChWINX3L\n",
            "Let's get #creative during these tough times. Put up a #GreenScreen and create amazing #Videos and #Photos with fun… https://t.co/hkUw5UnIwK\n",
            "lol boris really does have corona, anyways jeremy is the only man that matters! xox https://t.co/yCLB7zoVOZ\n",
            "@JustinTrudeau yeah put a person with corona in a prison, brilliant\n",
            "#Learn a new #skill during this #pandemic. Click the link below. \n",
            "\n",
            "https://t.co/ztsQWg3WRq\n",
            "\n",
            "#PayItForwardLIVE… https://t.co/JX6bCV6Dbz\n",
            "Some recommendations for supporting continued learning and the emotional well-being of your employees during the co… https://t.co/vJVhRN73Le\n",
            "The $2 trillion stimulus bill to fight the effects of Chinese coronavirus lockdown is already unpopular. Taxpayers… https://t.co/Q3sFVG68w0\n",
            "What is that one thing \"Corona\" and \"self-isolation\" is stopping you from doing??? 😭😭😭\n",
            "@madasurajaji @INCTharoorian @RahulGandhi But With No Food😑 Welp Its PMs Thali Bajao Corona Bhagao Yojana🤣🤣🤣\n",
            "This corona virus is really deadly☹️☹️\n",
            "@Corona_Beerus He asked you a question, murko https://t.co/nvPhTB4j09\n",
            "It's noticed some socalled volunteer organizations r doing someworks fortheir publicitywhich goes aganst corona gui… https://t.co/Zoc8ccJA7t\n",
            "Please corona fuck off\n",
            "On a lighter note.... what if they came out with a cure or preventive measure for corona virus covid-19 ...and it w… https://t.co/fOCWfn7W1g\n",
            "So disgusting that people are celebrating the fact he has corona virus, wishing death. It’s wrong would when he’s b… https://t.co/DmDX3b2ejr\n",
            "@IqbalManzoor16 @PTI_News The 25% of people who died in Britain for Corona Virus are Allah hu Akbar, just a FYI.\n",
            "@OnFireVince wouldn’t like half the shit Boris said about the corona be a slap in the face to everyone who’s lost l… https://t.co/qoUvHVq2bx\n",
            "Virtue of ablution:-\n",
            "       Wudoo is purifying the body and   also eliminates the virus so must  make a habit of do… https://t.co/ZPnIq3C9w1\n",
            "Maam are you corona? Cause you’re killing us out here\n",
            "Boris got corona and its mad funny who asked him to go shake everyone in the hospitals hands 😂😂😂😂\n",
            "Corona benefit: You can watch your preferred US late show segments without whooping audiences\n",
            "Is it the most British thing ever that our own PM has Corona?\n",
            "@SAfridiOfficial For collecting equipments for the cure of Corona #DonateKaroNa\n",
            "@VidyaKrishnan Coz WHO was saying  there is no report of H2H transmission... Hope you writing so much about Corona… https://t.co/Eu1gaigDkA\n",
            "Now I don’t care if corona virus infections in Gh rise or not. If a judge in his right senses can rule like this. I… https://t.co/edZ5wP51Pj\n",
            "After this crazy long ass March I never wanna hear people complain about January again 🤦🏾‍♀️, this month and its corona just wont end🤦🏾‍♀️\n",
            "Pray for us, my mom is taking my dad to be tested for corona\n"
          ],
          "name": "stdout"
        }
      ]
    },
    {
      "cell_type": "code",
      "metadata": {
        "id": "fLggQuxR6hjI",
        "colab_type": "code",
        "colab": {}
      },
      "source": [
        "#  use for loop\n",
        "#for  data   in   tweet_data:\n",
        "# print(data.text)"
      ],
      "execution_count": 0,
      "outputs": []
    },
    {
      "cell_type": "code",
      "metadata": {
        "id": "FXG2vuLG6yEv",
        "colab_type": "code",
        "colab": {}
      },
      "source": [
        ""
      ],
      "execution_count": 0,
      "outputs": []
    }
  ]
}
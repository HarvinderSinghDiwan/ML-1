{
  "nbformat": 4,
  "nbformat_minor": 0,
  "metadata": {
    "colab": {
      "name": "twitter_data.ipynb",
      "provenance": [],
      "authorship_tag": "ABX9TyMzXboLmts34tpx2C6WokvT",
      "include_colab_link": true
    },
    "kernelspec": {
      "name": "python3",
      "display_name": "Python 3"
    }
  },
  "cells": [
    {
      "cell_type": "markdown",
      "metadata": {
        "id": "view-in-github",
        "colab_type": "text"
      },
      "source": [
        "<a href=\"https://colab.research.google.com/github/redashu/ML/blob/master/twitter_datawithtextblob.ipynb\" target=\"_parent\"><img src=\"https://colab.research.google.com/assets/colab-badge.svg\" alt=\"Open In Colab\"/></a>"
      ]
    },
    {
      "cell_type": "code",
      "metadata": {
        "id": "5v6KW3o020nX",
        "colab_type": "code",
        "colab": {}
      },
      "source": [
        "# installing  twitter module\n",
        "#!pip  install tweepy\n",
        "import  tweepy "
      ],
      "execution_count": 0,
      "outputs": []
    },
    {
      "cell_type": "code",
      "metadata": {
        "id": "qFZLFfkD3Nyx",
        "colab_type": "code",
        "colab": {}
      },
      "source": [
        "#  defining variables\n",
        "#  consumer key \n",
        "consumer_key=\"kOaUfzK4wgCUtZARHDtge6HZV\"\n",
        "consumer_sec=\"734VPF1vpPHLLovkXBsnNpKP1vYsOXHAnk6ftBbCPAmSU8TfTC\"\n",
        "# access details\n",
        "access_key = access_sec=\n",
        "\n",
        "\n",
        "\n"
      ],
      "execution_count": 0,
      "outputs": []
    },
    {
      "cell_type": "code",
      "metadata": {
        "id": "3emgB1N54Yj-",
        "colab_type": "code",
        "colab": {}
      },
      "source": [
        "# lets  connect  at  first step auth by using consumer  access details \n",
        "#dir(tweepy)\n",
        "first_auth=tweepy.OAuthHandler(consumer_key,consumer_sec)"
      ],
      "execution_count": 0,
      "outputs": []
    },
    {
      "cell_type": "code",
      "metadata": {
        "id": "3JGeP44K4nM_",
        "colab_type": "code",
        "colab": {}
      },
      "source": [
        "#  now setting  second level of auth\n",
        "first_auth.set_access_token(access_key,access_sec)"
      ],
      "execution_count": 0,
      "outputs": []
    },
    {
      "cell_type": "code",
      "metadata": {
        "id": "cRtlqRw55N1V",
        "colab_type": "code",
        "colab": {}
      },
      "source": [
        "#  pointing  auth to datastore\n",
        "storage_api_connect=tweepy.API(first_auth,timeout=10)  #  now after this step we can browse / search data from tweetes\n"
      ],
      "execution_count": 0,
      "outputs": []
    },
    {
      "cell_type": "code",
      "metadata": {
        "id": "xNES3QIs6QO2",
        "colab_type": "code",
        "colab": {
          "base_uri": "https://localhost:8080/",
          "height": 1000
        },
        "outputId": "4fa6e104-ca51-4df9-fb3f-4a07a823337b"
      },
      "source": [
        "# now  searching  data  as req and waiting  for reply  \n",
        "#  first  method \n",
        "#tweet_data=storage_api_connect.search('corona',count=25)\n",
        "\n",
        "#  second method\n",
        "from textblob  import  TextBlob   #  automated way of sentiment analysis \n",
        "search_data=[\"corona\"]  #  search list\n",
        "list_of_tweets=[]   #  tweet data store\n",
        "\n",
        "if  len(search_data) >= 1 : \n",
        "  for  i  in  tweepy.Cursor(storage_api_connect.search,q=search_data[0]+\"  -filter:retweets\",lang='en',result_type='recent').items(100):\n",
        "    analyse=TextBlob(i.text)\n",
        "    print(analyse.sentiment.polarity)\n",
        "    #print(i.text)\n",
        "\n",
        "#print(list_of_tweets)"
      ],
      "execution_count": 20,
      "outputs": [
        {
          "output_type": "stream",
          "text": [
            "0.39166666666666666\n",
            "0.0\n",
            "1.0\n",
            "1.0\n",
            "0.2\n",
            "0.0\n",
            "0.22727272727272727\n",
            "0.0\n",
            "0.13636363636363635\n",
            "-0.3333333333333333\n",
            "-0.2\n",
            "0.0\n",
            "-0.15000000000000002\n",
            "0.5633333333333334\n",
            "0.0\n",
            "0.0\n",
            "0.0\n",
            "0.0\n",
            "0.6\n",
            "0.5\n",
            "0.0\n",
            "0.2\n",
            "0.14583333333333334\n",
            "0.25\n",
            "0.0\n",
            "0.0\n",
            "-0.45625000000000004\n",
            "0.375\n",
            "0.0\n",
            "0.0\n",
            "0.5\n",
            "0.0\n",
            "0.0\n",
            "0.0\n",
            "0.0\n",
            "0.03333333333333333\n",
            "0.0\n",
            "0.11363636363636363\n",
            "0.25\n",
            "0.35\n",
            "0.2\n",
            "0.12222222222222223\n",
            "-0.25\n",
            "0.0\n",
            "0.2\n",
            "0.0\n",
            "0.0\n",
            "-0.6\n",
            "0.1875\n",
            "0.26785714285714285\n",
            "0.3\n",
            "0.5\n",
            "0.0\n",
            "-0.125\n",
            "0.29523809523809524\n",
            "0.30000000000000004\n",
            "0.0\n",
            "0.25\n",
            "0.0\n",
            "0.0\n",
            "0.125\n",
            "0.44523809523809516\n",
            "-0.7142857142857143\n",
            "0.009090909090909085\n",
            "0.0\n",
            "0.0\n",
            "-0.2\n",
            "0.0\n",
            "0.0\n",
            "0.0\n",
            "0.0\n",
            "0.0\n",
            "1.0\n",
            "0.0\n",
            "0.25\n",
            "0.0\n",
            "-0.45\n",
            "0.0\n",
            "0.5\n",
            "0.2\n",
            "0.0\n",
            "-0.5\n",
            "0.0\n",
            "0.0\n",
            "0.25\n",
            "0.0\n",
            "0.0\n",
            "0.22727272727272727\n",
            "0.2\n",
            "-0.1\n",
            "0.0\n",
            "0.5\n",
            "0.053333333333333344\n",
            "0.0\n",
            "0.0\n",
            "0.053333333333333344\n",
            "0.0\n",
            "0.7\n",
            "0.0\n",
            "0.13636363636363635\n"
          ],
          "name": "stdout"
        }
      ]
    },
    {
      "cell_type": "code",
      "metadata": {
        "id": "fLggQuxR6hjI",
        "colab_type": "code",
        "colab": {}
      },
      "source": [
        "#  use for loop\n",
        "#for  data   in   tweet_data:\n",
        "# print(data.text)"
      ],
      "execution_count": 0,
      "outputs": []
    },
    {
      "cell_type": "code",
      "metadata": {
        "id": "FXG2vuLG6yEv",
        "colab_type": "code",
        "colab": {}
      },
      "source": [
        ""
      ],
      "execution_count": 0,
      "outputs": []
    }
  ]
}
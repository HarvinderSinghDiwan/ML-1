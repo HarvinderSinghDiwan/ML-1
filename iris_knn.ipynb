{
 "cells": [
  {
   "cell_type": "code",
   "execution_count": 3,
   "metadata": {},
   "outputs": [],
   "source": [
    "# Loading from URL\n",
    "from IPython.display import HTML\n",
    "#HTML('<iframe src=https://archive.ics.uci.edu/ml/machine-learning-databases/iris/iris.data width=300 height=400> </iframe>')"
   ]
  },
  {
   "cell_type": "code",
   "execution_count": 6,
   "metadata": {},
   "outputs": [],
   "source": [
    "from  sklearn.datasets import load_iris\n",
    "iris=load_iris()\n",
    "feature_data=iris.data\n",
    "output=iris.target"
   ]
  },
  {
   "cell_type": "code",
   "execution_count": 24,
   "metadata": {},
   "outputs": [
    {
     "name": "stdout",
     "output_type": "stream",
     "text": [
      "KNeighborsClassifier(algorithm='auto', leaf_size=30, metric='minkowski',\n",
      "           metric_params=None, n_jobs=1, n_neighbors=5, p=2,\n",
      "           weights='uniform')\n"
     ]
    }
   ],
   "source": [
    "# step 1 load classifier \n",
    "from sklearn.neighbors import KNeighborsClassifier\n",
    "# step 2  instantiate the estimator \n",
    "# meaning we are making an instance of classifier\n",
    "knn=KNeighborsClassifier(n_neighbors=5)\n",
    "print(knn)\n"
   ]
  },
  {
   "cell_type": "code",
   "execution_count": 25,
   "metadata": {},
   "outputs": [
    {
     "data": {
      "text/plain": [
       "array([1, 1])"
      ]
     },
     "execution_count": 25,
     "metadata": {},
     "output_type": "execute_result"
    }
   ],
   "source": [
    "knn.fit(feature_data,output)\n",
    "knn.predict([[3,5,4,2],[5,4,3,2]])"
   ]
  },
  {
   "cell_type": "code",
   "execution_count": 26,
   "metadata": {},
   "outputs": [
    {
     "data": {
      "text/plain": [
       "array([2, 0])"
      ]
     },
     "execution_count": 26,
     "metadata": {},
     "output_type": "execute_result"
    }
   ],
   "source": [
    "# using  different models\n",
    "from sklearn.linear_model  import  LogisticRegression\n",
    "logs=LogisticRegression()\n",
    "logs.fit(feature_data,output)\n",
    "logs.predict([[3,5,4,2],[5,4,3,2]])"
   ]
  },
  {
   "cell_type": "code",
   "execution_count": null,
   "metadata": {},
   "outputs": [],
   "source": []
  }
 ],
 "metadata": {
  "kernelspec": {
   "display_name": "Python 3",
   "language": "python",
   "name": "python3"
  },
  "language_info": {
   "codemirror_mode": {
    "name": "ipython",
    "version": 3
   },
   "file_extension": ".py",
   "mimetype": "text/x-python",
   "name": "python",
   "nbconvert_exporter": "python",
   "pygments_lexer": "ipython3",
   "version": "3.5.2"
  }
 },
 "nbformat": 4,
 "nbformat_minor": 2
}
